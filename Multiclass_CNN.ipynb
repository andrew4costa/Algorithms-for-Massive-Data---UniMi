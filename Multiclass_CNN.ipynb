{
  "cells": [
    {
      "cell_type": "markdown",
      "metadata": {
        "id": "C7kayrUcpEMr"
      },
      "source": [
        "#Deep Learning Project - Algorithms for Massive Data\n",
        "#####By Giuseppe Scaffidi Caruso and Andrew Thomas Costa "
      ]
    },
    {
      "cell_type": "code",
      "execution_count": null,
      "metadata": {
        "id": "avlDJb9jItGA"
      },
      "outputs": [],
      "source": [
        "#ANDREW KEY\\ PASSWORD\n",
        "#andrewcosta\n",
        "#\n",
        "\n",
        "#GIUSEPPE KEY\\ PASSWORD\n",
        "#giupisca25\n"
      ]
    },
    {
      "cell_type": "markdown",
      "metadata": {
        "id": "cQQHLLWMG0s1"
      },
      "source": [
        "###File Configuration"
      ]
    },
    {
      "cell_type": "markdown",
      "metadata": {
        "id": "8_1SvpPlHV_I"
      },
      "source": [
        "instructions:\n",
        "1. if your kaggle json file has not been uploaded, enter 'y' into the prompt.\n",
        "2. enter kaggle username \n",
        "3. enter api token"
      ]
    },
    {
      "cell_type": "code",
      "execution_count": null,
      "metadata": {
        "colab": {
          "base_uri": "https://localhost:8080/"
        },
        "id": "Qgkdvx-lIvop",
        "outputId": "ea7d0050-4a40-498d-b77e-98ebaa419be0"
      },
      "outputs": [
        {
          "name": "stdout",
          "output_type": "stream",
          "text": [
            "Do you want to upload the Kaggle credentials file? (y/n): n\n",
            "Enter your Kaggle username: andrewcosta\n",
            "Enter your Kaggle key: ··········\n"
          ]
        }
      ],
      "source": [
        "from google.colab import files\n",
        "import os\n",
        "import json\n",
        "import getpass\n",
        "\n",
        "# Prompt the user for input\n",
        "use_upload = input('Do you want to upload the Kaggle credentials file? (y/n): ')\n",
        "if use_upload.lower() == 'y':\n",
        "    # Upload the file\n",
        "    uploaded = files.upload()\n",
        "\n",
        "    # Rename the file to KaggleCredential.json\n",
        "    for name in uploaded.keys():\n",
        "        if 'kaggle' in name.lower():\n",
        "            os.rename(name, 'KaggleCredential.json')\n",
        "            break\n",
        "else:\n",
        "    # Manually input the credentials\n",
        "    username = input('Enter your Kaggle username: ')\n",
        "    password = getpass.getpass('Enter your Kaggle key: ')\n",
        "\n",
        "    # Save the credentials to a JSON file\n",
        "    credentials = {'username': username, 'key': password}\n",
        "    with open('KaggleCredential.json', 'w') as f:\n",
        "        json.dump(credentials, f)\n",
        "\n",
        "# Load the credentials from the JSON file\n",
        "with open('KaggleCredential.json', 'r') as f:\n",
        "    credentials = json.load(f)\n",
        "\n",
        "# Get the Kaggle username from the credentials\n",
        "username = credentials['username']\n",
        "password = credentials['key']"
      ]
    },
    {
      "cell_type": "markdown",
      "metadata": {
        "id": "NyMJEgcTG5I9"
      },
      "source": [
        "###Download Data"
      ]
    },
    {
      "cell_type": "code",
      "execution_count": null,
      "metadata": {
        "id": "-_BPdy0zJUZv"
      },
      "outputs": [],
      "source": [
        "import getpass\n",
        "import json\n",
        "\n",
        "# Save your credentials to a JSON file\n",
        "credentials = {'username': username, 'key': password}\n",
        "kaggle_dir = '/root/.kaggle'\n",
        "if not os.path.exists(kaggle_dir):\n",
        "    os.makedirs(kaggle_dir)\n",
        "with open(os.path.join(kaggle_dir, 'kaggle.json'), 'w') as f:\n",
        "    json.dump(credentials, f)\n",
        "\n",
        "# Set the file permissions to read/write only for the owner\n",
        "!chmod 600 /root/.kaggle/kaggle.json"
      ]
    },
    {
      "cell_type": "code",
      "execution_count": null,
      "metadata": {
        "id": "3bY-w4Vcvk1t"
      },
      "outputs": [],
      "source": [
        "import kaggle\n",
        "import zipfile\n",
        "import pandas as pd"
      ]
    },
    {
      "cell_type": "code",
      "execution_count": null,
      "metadata": {
        "id": "wSfNi8Xzwjny"
      },
      "outputs": [],
      "source": [
        "datasets = !kaggle datasets list -s \"Plant Leaves image classification\"\n",
        "datasets"
      ]
    },
    {
      "cell_type": "code",
      "execution_count": null,
      "metadata": {
        "id": "pCeyutDawlB2"
      },
      "outputs": [],
      "source": [
        "dataset = datasets[2].split()[0]\n",
        "dataset"
      ]
    },
    {
      "cell_type": "code",
      "execution_count": null,
      "metadata": {
        "colab": {
          "base_uri": "https://localhost:8080/"
        },
        "id": "WVjOtPf1xBRE",
        "outputId": "18af192e-bd17-4b53-d8fe-b71842ca8af1"
      },
      "outputs": [
        {
          "output_type": "stream",
          "name": "stdout",
          "text": [
            "CPU times: user 1min 3s, sys: 23.4 s, total: 1min 26s\n",
            "Wall time: 6min 48s\n"
          ]
        }
      ],
      "source": [
        "%%time\n",
        "# Import necessary libraries\n",
        "import kaggle\n",
        "import zipfile\n",
        "\n",
        "# Authenticate Kaggle API\n",
        "kaggle.api.authenticate()\n",
        "\n",
        "# Download the dataset\n",
        "dataset = 'csafrit2/plant-leaves-for-image-classification'\n",
        "kaggle.api.dataset_download_files(dataset)\n",
        "\n",
        "# Extract the zip file to the current working directory (i.e., the root directory in Colab)\n",
        "with zipfile.ZipFile('plant-leaves-for-image-classification.zip', 'r') as zip_ref:\n",
        "    zip_ref.extractall()  # Extract to the current directory\n"
      ]
    },
    {
      "cell_type": "code",
      "execution_count": null,
      "metadata": {
        "id": "w11nlZQWxmIE"
      },
      "outputs": [],
      "source": [
        "cfg_path = os.getcwd() #/content\n",
        "root_dir = '/content/drive/'\n",
        "input_path_train=  \"Plants_2/train\"\n",
        "input_path_valid= \"Plants_2/valid\"\n",
        "input_path_test= \"Plants_2/test\"\n",
        "input_path_imagestopredict= \"input/data/images_to_predict\"\n",
        "sizes = root_dir + input_path_train\n",
        "train_path = os.path.join(cfg_path,input_path_train)\n",
        "val_path = os.path.join(cfg_path,input_path_valid)\n",
        "test_path = os.path.join(cfg_path,input_path_test)\n",
        "\n"
      ]
    },
    {
      "cell_type": "markdown",
      "metadata": {
        "id": "cYXes3HQG-ya"
      },
      "source": [
        "###Data Preparation"
      ]
    },
    {
      "cell_type": "markdown",
      "metadata": {
        "id": "IyhoBkjprvus"
      },
      "source": [
        "RGB channels are within range [0, 255]. Rescale to better feed the NN."
      ]
    },
    {
      "cell_type": "code",
      "execution_count": null,
      "metadata": {
        "id": "pYyAE07AyPes"
      },
      "outputs": [],
      "source": [
        "import numpy as np\n",
        "from matplotlib import pyplot as plt\n",
        "import tensorflow as tf\n",
        "from sklearn.utils import class_weight\n",
        "\n",
        "tf.compat.v1.logging.set_verbosity(tf.compat.v1.logging.ERROR)"
      ]
    },
    {
      "cell_type": "code",
      "execution_count": null,
      "metadata": {
        "id": "zGODdb1WncKE"
      },
      "outputs": [],
      "source": [
        "HEIGHT = 64\n",
        "WIDTH = 64\n",
        "BATCH = 50"
      ]
    },
    {
      "cell_type": "code",
      "execution_count": null,
      "metadata": {
        "colab": {
          "base_uri": "https://localhost:8080/"
        },
        "id": "LbvfAkVvyKf_",
        "outputId": "5e920cc0-e14d-4b42-94c0-0d31f7bc1c40"
      },
      "outputs": [
        {
          "output_type": "stream",
          "name": "stdout",
          "text": [
            "Found 4274 files belonging to 22 classes.\n",
            "Found 110 files belonging to 22 classes.\n",
            "Found 110 files belonging to 22 classes.\n"
          ]
        }
      ],
      "source": [
        "train_data = tf.keras.utils.image_dataset_from_directory(\n",
        "                                  train_path,\n",
        "                                  image_size=(HEIGHT,WIDTH), \n",
        "                                  interpolation=\"mitchellcubic\",\n",
        "                                  crop_to_aspect_ratio=True,\n",
        "                                  seed=42, \n",
        "                                  shuffle=True, \n",
        "                                  batch_size=BATCH\n",
        "                                  )\n",
        "\n",
        "val_data = tf.keras.utils.image_dataset_from_directory(\n",
        "                                  val_path,\n",
        "                                  image_size=(HEIGHT,WIDTH), \n",
        "                                  interpolation=\"mitchellcubic\",\n",
        "                                  crop_to_aspect_ratio=True,\n",
        "                                  seed=42, \n",
        "                                  shuffle=True, \n",
        "                                  batch_size=BATCH\n",
        "                                  )\n",
        "\n",
        "test_data = tf.keras.utils.image_dataset_from_directory(\n",
        "                                  test_path,\n",
        "                                  image_size=(HEIGHT,WIDTH), \n",
        "                                  interpolation=\"mitchellcubic\",\n",
        "                                  crop_to_aspect_ratio=True,\n",
        "                                  seed=42, \n",
        "                                  shuffle=True, \n",
        "                                  batch_size=BATCH\n",
        "                                  )"
      ]
    },
    {
      "cell_type": "code",
      "source": [
        "train_classes = train_data.class_names\n",
        "train_classes"
      ],
      "metadata": {
        "id": "yA5G60RBt_0k"
      },
      "execution_count": null,
      "outputs": []
    },
    {
      "cell_type": "code",
      "execution_count": null,
      "metadata": {
        "id": "UVc58K5zx-DD"
      },
      "outputs": [],
      "source": [
        "class_weights = class_weight.compute_class_weight(class_weight = 'balanced', \n",
        "                                                  classes = np.unique(train_classes), \n",
        "                                                  y = train_classes)\n",
        "class_weights_ = dict(zip(np.unique(train_classes), class_weights))\n",
        "class_weights_\n",
        "#class_weights = enumerate(class_weights)\n",
        "#class_weights\n",
        "class_weight_dict = dict(enumerate(class_weights))\n",
        "#class_weight_dict\n",
        "class_weights = {0: 1.0, 1: 1.0, 2: 1.0, 3: 1.0, 4: 1.0, 5: 1.0, 6: 1.0, 7: 1.0, 8: 1.0, 9: 1.0, 10: 1.0, 11: 1.0, 12: 1.0, 13: 1.0, 14: 1.0, 15: 1.0, 16: 1.0, 17: 1.0, 18: 1.0, 19: 1.0, 20: 1.0, 21: 1.0}\n"
      ]
    },
    {
      "cell_type": "code",
      "source": [
        "class_weights_"
      ],
      "metadata": {
        "colab": {
          "base_uri": "https://localhost:8080/"
        },
        "id": "aU_jTyfAhjNd",
        "outputId": "a36ca2bd-d29e-4b7b-f982-93ddfa0c4bce"
      },
      "execution_count": null,
      "outputs": [
        {
          "output_type": "execute_result",
          "data": {
            "text/plain": [
              "{'Alstonia Scholaris diseased (P2a)': 1.0,\n",
              " 'Alstonia Scholaris healthy (P2b)': 1.0,\n",
              " 'Arjun diseased (P1a)': 1.0,\n",
              " 'Arjun healthy (P1b)': 1.0,\n",
              " 'Bael diseased (P4b)': 1.0,\n",
              " 'Basil healthy (P8)': 1.0,\n",
              " 'Chinar diseased (P11b)': 1.0,\n",
              " 'Chinar healthy (P11a)': 1.0,\n",
              " 'Gauva diseased (P3b)': 1.0,\n",
              " 'Gauva healthy (P3a)': 1.0,\n",
              " 'Jamun diseased (P5b)': 1.0,\n",
              " 'Jamun healthy (P5a)': 1.0,\n",
              " 'Jatropha diseased (P6b)': 1.0,\n",
              " 'Jatropha healthy (P6a)': 1.0,\n",
              " 'Lemon diseased (P10b)': 1.0,\n",
              " 'Lemon healthy (P10a)': 1.0,\n",
              " 'Mango diseased (P0b)': 1.0,\n",
              " 'Mango healthy (P0a)': 1.0,\n",
              " 'Pomegranate diseased (P9b)': 1.0,\n",
              " 'Pomegranate healthy (P9a)': 1.0,\n",
              " 'Pongamia Pinnata diseased (P7b)': 1.0,\n",
              " 'Pongamia Pinnata healthy (P7a)': 1.0}"
            ]
          },
          "metadata": {},
          "execution_count": 15
        }
      ]
    },
    {
      "cell_type": "code",
      "execution_count": null,
      "metadata": {
        "id": "OnbM-5VXkKu6"
      },
      "outputs": [],
      "source": [
        "import numpy as np\n",
        "from PIL import Image\n",
        "\n",
        "data = []\n",
        "\n",
        "for i, batch in enumerate(train_data):\n",
        "    inputs, targets = batch\n",
        "    for j in range(inputs.shape[0]):\n",
        "        image = inputs[j].numpy()\n",
        "        image = (image * 255).astype(np.uint8)\n",
        "        filename = f\"batch_{i}_image_{j}.jpg\"\n",
        "        with Image.fromarray(image) as img:\n",
        "            width, height = img.size\n",
        "            data.append({'filename': filename, 'width': width, 'height': height})\n",
        "\n",
        "df = pd.DataFrame(data)"
      ]
    },
    {
      "cell_type": "code",
      "execution_count": null,
      "metadata": {
        "colab": {
          "base_uri": "https://localhost:8080/"
        },
        "id": "c4eQZ4frrfrR",
        "outputId": "7a0196c1-90ef-4e8c-edf8-ed2b8f669d97"
      },
      "outputs": [
        {
          "data": {
            "text/plain": [
              "filename    4274\n",
              "width          1\n",
              "height         1\n",
              "dtype: int64"
            ]
          },
          "execution_count": 57,
          "metadata": {},
          "output_type": "execute_result"
        }
      ],
      "source": [
        "df.nunique()"
      ]
    },
    {
      "cell_type": "code",
      "execution_count": null,
      "metadata": {
        "colab": {
          "base_uri": "https://localhost:8080/",
          "height": 204
        },
        "id": "OjuZuYL1rvLx",
        "outputId": "6e3e6325-5fc6-46bb-fe9e-1a6626598a38"
      },
      "outputs": [
        {
          "data": {
            "text/html": [
              "\n",
              "  <div id=\"df-4be1ddb2-98c0-4664-af26-8f64f3692c41\">\n",
              "    <div class=\"colab-df-container\">\n",
              "      <div>\n",
              "<style scoped>\n",
              "    .dataframe tbody tr th:only-of-type {\n",
              "        vertical-align: middle;\n",
              "    }\n",
              "\n",
              "    .dataframe tbody tr th {\n",
              "        vertical-align: top;\n",
              "    }\n",
              "\n",
              "    .dataframe thead th {\n",
              "        text-align: right;\n",
              "    }\n",
              "</style>\n",
              "<table border=\"1\" class=\"dataframe\">\n",
              "  <thead>\n",
              "    <tr style=\"text-align: right;\">\n",
              "      <th></th>\n",
              "      <th>filename</th>\n",
              "      <th>width</th>\n",
              "      <th>height</th>\n",
              "    </tr>\n",
              "  </thead>\n",
              "  <tbody>\n",
              "    <tr>\n",
              "      <th>0</th>\n",
              "      <td>batch_0_image_0.jpg</td>\n",
              "      <td>256</td>\n",
              "      <td>256</td>\n",
              "    </tr>\n",
              "    <tr>\n",
              "      <th>1</th>\n",
              "      <td>batch_0_image_1.jpg</td>\n",
              "      <td>256</td>\n",
              "      <td>256</td>\n",
              "    </tr>\n",
              "    <tr>\n",
              "      <th>2</th>\n",
              "      <td>batch_0_image_2.jpg</td>\n",
              "      <td>256</td>\n",
              "      <td>256</td>\n",
              "    </tr>\n",
              "    <tr>\n",
              "      <th>3</th>\n",
              "      <td>batch_0_image_3.jpg</td>\n",
              "      <td>256</td>\n",
              "      <td>256</td>\n",
              "    </tr>\n",
              "    <tr>\n",
              "      <th>4</th>\n",
              "      <td>batch_0_image_4.jpg</td>\n",
              "      <td>256</td>\n",
              "      <td>256</td>\n",
              "    </tr>\n",
              "  </tbody>\n",
              "</table>\n",
              "</div>\n",
              "      <button class=\"colab-df-convert\" onclick=\"convertToInteractive('df-4be1ddb2-98c0-4664-af26-8f64f3692c41')\"\n",
              "              title=\"Convert this dataframe to an interactive table.\"\n",
              "              style=\"display:none;\">\n",
              "        \n",
              "  <svg xmlns=\"http://www.w3.org/2000/svg\" height=\"24px\"viewBox=\"0 0 24 24\"\n",
              "       width=\"24px\">\n",
              "    <path d=\"M0 0h24v24H0V0z\" fill=\"none\"/>\n",
              "    <path d=\"M18.56 5.44l.94 2.06.94-2.06 2.06-.94-2.06-.94-.94-2.06-.94 2.06-2.06.94zm-11 1L8.5 8.5l.94-2.06 2.06-.94-2.06-.94L8.5 2.5l-.94 2.06-2.06.94zm10 10l.94 2.06.94-2.06 2.06-.94-2.06-.94-.94-2.06-.94 2.06-2.06.94z\"/><path d=\"M17.41 7.96l-1.37-1.37c-.4-.4-.92-.59-1.43-.59-.52 0-1.04.2-1.43.59L10.3 9.45l-7.72 7.72c-.78.78-.78 2.05 0 2.83L4 21.41c.39.39.9.59 1.41.59.51 0 1.02-.2 1.41-.59l7.78-7.78 2.81-2.81c.8-.78.8-2.07 0-2.86zM5.41 20L4 18.59l7.72-7.72 1.47 1.35L5.41 20z\"/>\n",
              "  </svg>\n",
              "      </button>\n",
              "      \n",
              "  <style>\n",
              "    .colab-df-container {\n",
              "      display:flex;\n",
              "      flex-wrap:wrap;\n",
              "      gap: 12px;\n",
              "    }\n",
              "\n",
              "    .colab-df-convert {\n",
              "      background-color: #E8F0FE;\n",
              "      border: none;\n",
              "      border-radius: 50%;\n",
              "      cursor: pointer;\n",
              "      display: none;\n",
              "      fill: #1967D2;\n",
              "      height: 32px;\n",
              "      padding: 0 0 0 0;\n",
              "      width: 32px;\n",
              "    }\n",
              "\n",
              "    .colab-df-convert:hover {\n",
              "      background-color: #E2EBFA;\n",
              "      box-shadow: 0px 1px 2px rgba(60, 64, 67, 0.3), 0px 1px 3px 1px rgba(60, 64, 67, 0.15);\n",
              "      fill: #174EA6;\n",
              "    }\n",
              "\n",
              "    [theme=dark] .colab-df-convert {\n",
              "      background-color: #3B4455;\n",
              "      fill: #D2E3FC;\n",
              "    }\n",
              "\n",
              "    [theme=dark] .colab-df-convert:hover {\n",
              "      background-color: #434B5C;\n",
              "      box-shadow: 0px 1px 3px 1px rgba(0, 0, 0, 0.15);\n",
              "      filter: drop-shadow(0px 1px 2px rgba(0, 0, 0, 0.3));\n",
              "      fill: #FFFFFF;\n",
              "    }\n",
              "  </style>\n",
              "\n",
              "      <script>\n",
              "        const buttonEl =\n",
              "          document.querySelector('#df-4be1ddb2-98c0-4664-af26-8f64f3692c41 button.colab-df-convert');\n",
              "        buttonEl.style.display =\n",
              "          google.colab.kernel.accessAllowed ? 'block' : 'none';\n",
              "\n",
              "        async function convertToInteractive(key) {\n",
              "          const element = document.querySelector('#df-4be1ddb2-98c0-4664-af26-8f64f3692c41');\n",
              "          const dataTable =\n",
              "            await google.colab.kernel.invokeFunction('convertToInteractive',\n",
              "                                                     [key], {});\n",
              "          if (!dataTable) return;\n",
              "\n",
              "          const docLinkHtml = 'Like what you see? Visit the ' +\n",
              "            '<a target=\"_blank\" href=https://colab.research.google.com/notebooks/data_table.ipynb>data table notebook</a>'\n",
              "            + ' to learn more about interactive tables.';\n",
              "          element.innerHTML = '';\n",
              "          dataTable['output_type'] = 'display_data';\n",
              "          await google.colab.output.renderOutput(dataTable, element);\n",
              "          const docLink = document.createElement('div');\n",
              "          docLink.innerHTML = docLinkHtml;\n",
              "          element.appendChild(docLink);\n",
              "        }\n",
              "      </script>\n",
              "    </div>\n",
              "  </div>\n",
              "  "
            ],
            "text/plain": [
              "              filename  width  height\n",
              "0  batch_0_image_0.jpg    256     256\n",
              "1  batch_0_image_1.jpg    256     256\n",
              "2  batch_0_image_2.jpg    256     256\n",
              "3  batch_0_image_3.jpg    256     256\n",
              "4  batch_0_image_4.jpg    256     256"
            ]
          },
          "execution_count": 55,
          "metadata": {},
          "output_type": "execute_result"
        }
      ],
      "source": [
        "data = []\n",
        "\n",
        "for i, batch in enumerate(val_data):\n",
        "    inputs, targets = batch\n",
        "    for j in range(inputs.shape[0]):\n",
        "        image = inputs[j].numpy()\n",
        "        image = (image * 255).astype(np.uint8)\n",
        "        filename = f\"batch_{i}_image_{j}.jpg\"\n",
        "        with Image.fromarray(image) as img:\n",
        "            width, height = img.size\n",
        "            data.append({'filename': filename, 'width': width, 'height': height})\n",
        "\n",
        "val_df = pd.DataFrame(data)\n",
        "val_df.head()"
      ]
    },
    {
      "cell_type": "code",
      "execution_count": null,
      "metadata": {
        "colab": {
          "base_uri": "https://localhost:8080/"
        },
        "id": "tdUHHKZbr6Wq",
        "outputId": "ef718156-1435-4c61-be39-5d58806a90ec"
      },
      "outputs": [
        {
          "data": {
            "text/plain": [
              "filename    110\n",
              "width         1\n",
              "height        1\n",
              "dtype: int64"
            ]
          },
          "execution_count": 56,
          "metadata": {},
          "output_type": "execute_result"
        }
      ],
      "source": [
        "val_df.nunique()"
      ]
    },
    {
      "cell_type": "code",
      "execution_count": null,
      "metadata": {
        "colab": {
          "base_uri": "https://localhost:8080/",
          "height": 204
        },
        "id": "AssldTSXsAHT",
        "outputId": "91c5fccf-6801-4001-c229-c69811c1c4c9"
      },
      "outputs": [
        {
          "data": {
            "text/html": [
              "\n",
              "  <div id=\"df-cc41fe98-f9e5-488c-b8e2-dcafe197e766\">\n",
              "    <div class=\"colab-df-container\">\n",
              "      <div>\n",
              "<style scoped>\n",
              "    .dataframe tbody tr th:only-of-type {\n",
              "        vertical-align: middle;\n",
              "    }\n",
              "\n",
              "    .dataframe tbody tr th {\n",
              "        vertical-align: top;\n",
              "    }\n",
              "\n",
              "    .dataframe thead th {\n",
              "        text-align: right;\n",
              "    }\n",
              "</style>\n",
              "<table border=\"1\" class=\"dataframe\">\n",
              "  <thead>\n",
              "    <tr style=\"text-align: right;\">\n",
              "      <th></th>\n",
              "      <th>filename</th>\n",
              "      <th>width</th>\n",
              "      <th>height</th>\n",
              "    </tr>\n",
              "  </thead>\n",
              "  <tbody>\n",
              "    <tr>\n",
              "      <th>0</th>\n",
              "      <td>batch_0_image_0.jpg</td>\n",
              "      <td>256</td>\n",
              "      <td>256</td>\n",
              "    </tr>\n",
              "    <tr>\n",
              "      <th>1</th>\n",
              "      <td>batch_0_image_1.jpg</td>\n",
              "      <td>256</td>\n",
              "      <td>256</td>\n",
              "    </tr>\n",
              "    <tr>\n",
              "      <th>2</th>\n",
              "      <td>batch_0_image_2.jpg</td>\n",
              "      <td>256</td>\n",
              "      <td>256</td>\n",
              "    </tr>\n",
              "    <tr>\n",
              "      <th>3</th>\n",
              "      <td>batch_0_image_3.jpg</td>\n",
              "      <td>256</td>\n",
              "      <td>256</td>\n",
              "    </tr>\n",
              "    <tr>\n",
              "      <th>4</th>\n",
              "      <td>batch_0_image_4.jpg</td>\n",
              "      <td>256</td>\n",
              "      <td>256</td>\n",
              "    </tr>\n",
              "  </tbody>\n",
              "</table>\n",
              "</div>\n",
              "      <button class=\"colab-df-convert\" onclick=\"convertToInteractive('df-cc41fe98-f9e5-488c-b8e2-dcafe197e766')\"\n",
              "              title=\"Convert this dataframe to an interactive table.\"\n",
              "              style=\"display:none;\">\n",
              "        \n",
              "  <svg xmlns=\"http://www.w3.org/2000/svg\" height=\"24px\"viewBox=\"0 0 24 24\"\n",
              "       width=\"24px\">\n",
              "    <path d=\"M0 0h24v24H0V0z\" fill=\"none\"/>\n",
              "    <path d=\"M18.56 5.44l.94 2.06.94-2.06 2.06-.94-2.06-.94-.94-2.06-.94 2.06-2.06.94zm-11 1L8.5 8.5l.94-2.06 2.06-.94-2.06-.94L8.5 2.5l-.94 2.06-2.06.94zm10 10l.94 2.06.94-2.06 2.06-.94-2.06-.94-.94-2.06-.94 2.06-2.06.94z\"/><path d=\"M17.41 7.96l-1.37-1.37c-.4-.4-.92-.59-1.43-.59-.52 0-1.04.2-1.43.59L10.3 9.45l-7.72 7.72c-.78.78-.78 2.05 0 2.83L4 21.41c.39.39.9.59 1.41.59.51 0 1.02-.2 1.41-.59l7.78-7.78 2.81-2.81c.8-.78.8-2.07 0-2.86zM5.41 20L4 18.59l7.72-7.72 1.47 1.35L5.41 20z\"/>\n",
              "  </svg>\n",
              "      </button>\n",
              "      \n",
              "  <style>\n",
              "    .colab-df-container {\n",
              "      display:flex;\n",
              "      flex-wrap:wrap;\n",
              "      gap: 12px;\n",
              "    }\n",
              "\n",
              "    .colab-df-convert {\n",
              "      background-color: #E8F0FE;\n",
              "      border: none;\n",
              "      border-radius: 50%;\n",
              "      cursor: pointer;\n",
              "      display: none;\n",
              "      fill: #1967D2;\n",
              "      height: 32px;\n",
              "      padding: 0 0 0 0;\n",
              "      width: 32px;\n",
              "    }\n",
              "\n",
              "    .colab-df-convert:hover {\n",
              "      background-color: #E2EBFA;\n",
              "      box-shadow: 0px 1px 2px rgba(60, 64, 67, 0.3), 0px 1px 3px 1px rgba(60, 64, 67, 0.15);\n",
              "      fill: #174EA6;\n",
              "    }\n",
              "\n",
              "    [theme=dark] .colab-df-convert {\n",
              "      background-color: #3B4455;\n",
              "      fill: #D2E3FC;\n",
              "    }\n",
              "\n",
              "    [theme=dark] .colab-df-convert:hover {\n",
              "      background-color: #434B5C;\n",
              "      box-shadow: 0px 1px 3px 1px rgba(0, 0, 0, 0.15);\n",
              "      filter: drop-shadow(0px 1px 2px rgba(0, 0, 0, 0.3));\n",
              "      fill: #FFFFFF;\n",
              "    }\n",
              "  </style>\n",
              "\n",
              "      <script>\n",
              "        const buttonEl =\n",
              "          document.querySelector('#df-cc41fe98-f9e5-488c-b8e2-dcafe197e766 button.colab-df-convert');\n",
              "        buttonEl.style.display =\n",
              "          google.colab.kernel.accessAllowed ? 'block' : 'none';\n",
              "\n",
              "        async function convertToInteractive(key) {\n",
              "          const element = document.querySelector('#df-cc41fe98-f9e5-488c-b8e2-dcafe197e766');\n",
              "          const dataTable =\n",
              "            await google.colab.kernel.invokeFunction('convertToInteractive',\n",
              "                                                     [key], {});\n",
              "          if (!dataTable) return;\n",
              "\n",
              "          const docLinkHtml = 'Like what you see? Visit the ' +\n",
              "            '<a target=\"_blank\" href=https://colab.research.google.com/notebooks/data_table.ipynb>data table notebook</a>'\n",
              "            + ' to learn more about interactive tables.';\n",
              "          element.innerHTML = '';\n",
              "          dataTable['output_type'] = 'display_data';\n",
              "          await google.colab.output.renderOutput(dataTable, element);\n",
              "          const docLink = document.createElement('div');\n",
              "          docLink.innerHTML = docLinkHtml;\n",
              "          element.appendChild(docLink);\n",
              "        }\n",
              "      </script>\n",
              "    </div>\n",
              "  </div>\n",
              "  "
            ],
            "text/plain": [
              "              filename  width  height\n",
              "0  batch_0_image_0.jpg    256     256\n",
              "1  batch_0_image_1.jpg    256     256\n",
              "2  batch_0_image_2.jpg    256     256\n",
              "3  batch_0_image_3.jpg    256     256\n",
              "4  batch_0_image_4.jpg    256     256"
            ]
          },
          "execution_count": 58,
          "metadata": {},
          "output_type": "execute_result"
        }
      ],
      "source": [
        "data = []\n",
        "\n",
        "for i, batch in enumerate(test_data):\n",
        "    inputs, targets = batch\n",
        "    for j in range(inputs.shape[0]):\n",
        "        image = inputs[j].numpy()\n",
        "        image = (image * 255).astype(np.uint8)\n",
        "        filename = f\"batch_{i}_image_{j}.jpg\"\n",
        "        with Image.fromarray(image) as img:\n",
        "            width, height = img.size\n",
        "            data.append({'filename': filename, 'width': width, 'height': height})\n",
        "\n",
        "test_df = pd.DataFrame(data)\n",
        "test_df.head()"
      ]
    },
    {
      "cell_type": "code",
      "execution_count": null,
      "metadata": {
        "colab": {
          "base_uri": "https://localhost:8080/"
        },
        "id": "MTd1lr7DsI3w",
        "outputId": "d61e5e6c-1b24-49d1-d56c-ae9a5d51dbc1"
      },
      "outputs": [
        {
          "data": {
            "text/plain": [
              "filename    110\n",
              "width         1\n",
              "height        1\n",
              "dtype: int64"
            ]
          },
          "execution_count": 59,
          "metadata": {},
          "output_type": "execute_result"
        }
      ],
      "source": [
        "test_df.nunique()"
      ]
    },
    {
      "cell_type": "code",
      "execution_count": null,
      "metadata": {
        "colab": {
          "base_uri": "https://localhost:8080/"
        },
        "id": "S1WrxXVjXAF8",
        "outputId": "fd9e1dfb-91fa-46fb-9cc7-bd73270f55a2"
      },
      "outputs": [
        {
          "output_type": "execute_result",
          "data": {
            "text/plain": [
              "['Alstonia Scholaris diseased (P2a)',\n",
              " 'Alstonia Scholaris healthy (P2b)',\n",
              " 'Arjun diseased (P1a)',\n",
              " 'Arjun healthy (P1b)',\n",
              " 'Bael diseased (P4b)',\n",
              " 'Basil healthy (P8)',\n",
              " 'Chinar diseased (P11b)',\n",
              " 'Chinar healthy (P11a)',\n",
              " 'Gauva diseased (P3b)',\n",
              " 'Gauva healthy (P3a)',\n",
              " 'Jamun diseased (P5b)',\n",
              " 'Jamun healthy (P5a)',\n",
              " 'Jatropha diseased (P6b)',\n",
              " 'Jatropha healthy (P6a)',\n",
              " 'Lemon diseased (P10b)',\n",
              " 'Lemon healthy (P10a)',\n",
              " 'Mango diseased (P0b)',\n",
              " 'Mango healthy (P0a)',\n",
              " 'Pomegranate diseased (P9b)',\n",
              " 'Pomegranate healthy (P9a)',\n",
              " 'Pongamia Pinnata diseased (P7b)',\n",
              " 'Pongamia Pinnata healthy (P7a)']"
            ]
          },
          "metadata": {},
          "execution_count": 26
        }
      ],
      "source": [
        "class_names = train_data.class_names\n",
        "class_names"
      ]
    },
    {
      "cell_type": "code",
      "execution_count": null,
      "metadata": {
        "colab": {
          "base_uri": "https://localhost:8080/"
        },
        "id": "yb4ga71XsmFk",
        "outputId": "61d040c1-e0b8-4628-da1b-4763e896b76a"
      },
      "outputs": [
        {
          "output_type": "execute_result",
          "data": {
            "text/plain": [
              "22"
            ]
          },
          "metadata": {},
          "execution_count": 27
        }
      ],
      "source": [
        "num_classes = len(class_names)\n",
        "num_classes"
      ]
    },
    {
      "cell_type": "markdown",
      "metadata": {
        "id": "dhPHeqUwdqUv"
      },
      "source": [
        "###Exploratory Data Analysis"
      ]
    },
    {
      "cell_type": "code",
      "execution_count": null,
      "metadata": {
        "colab": {
          "base_uri": "https://localhost:8080/",
          "height": 591
        },
        "id": "RpOL9uwdof9N",
        "outputId": "57b2297d-6250-42e0-f7d9-d22b2fb29c06"
      },
      "outputs": [
        {
          "data": {
            "image/png": "[encoded data removed]",
            "text/plain": [
              "<Figure size 720x720 with 12 Axes>"
            ]
          },
          "metadata": {},
          "output_type": "display_data"
        }
      ],
      "source": [
        "import matplotlib.pyplot as plt\n",
        "\n",
        "plt.figure(figsize=(10,10))\n",
        "for images, labels in train_data.take(1):\n",
        "  for i in range(12):\n",
        "    ax = plt.subplot(4, 3, i + 1)\n",
        "    plt.imshow(images[i].numpy().astype(\"uint8\"))\n",
        "    plt.title(class_names[labels[i]])\n",
        "    plt.axis(\"off\")"
      ]
    },
    {
      "cell_type": "code",
      "execution_count": null,
      "metadata": {
        "colab": {
          "base_uri": "https://localhost:8080/"
        },
        "id": "jLnNB1mzlK_h",
        "outputId": "4122a4aa-7799-42cb-8bf7-0205139cbb67"
      },
      "outputs": [
        {
          "name": "stdout",
          "output_type": "stream",
          "text": [
            "(32, 256, 256, 3)\n",
            "(32,)\n"
          ]
        }
      ],
      "source": [
        "for image_batch, labels_batch in train_data:\n",
        "  print(image_batch.shape)\n",
        "  print(labels_batch.shape)\n",
        "  break"
      ]
    },
    {
      "cell_type": "markdown",
      "metadata": {
        "id": "ORAEQNVWHRdP"
      },
      "source": [
        "###Model Preparation and Deployment"
      ]
    },
    {
      "cell_type": "code",
      "execution_count": null,
      "metadata": {
        "id": "WiaE_NT3mswc"
      },
      "outputs": [],
      "source": [
        "!pip install --upgrade tensorflow keras"
      ]
    },
    {
      "cell_type": "code",
      "execution_count": null,
      "metadata": {
        "id": "Uo_tTu88sHow"
      },
      "outputs": [],
      "source": [
        "from tensorflow import keras\n",
        "from tensorflow.keras import layers\n",
        "from tensorflow.keras.models import Sequential\n",
        "from tensorflow.keras import preprocessing"
      ]
    },
    {
      "cell_type": "code",
      "execution_count": null,
      "metadata": {
        "id": "KNIB92aXnM9d"
      },
      "outputs": [],
      "source": [
        "from tensorflow.keras.layers.experimental.preprocessing import Rescaling\n",
        "from tensorflow.keras import layers\n",
        "from sklearn.metrics import accuracy_score, f1_score, precision_score, recall_score, confusion_matrix, roc_auc_score\n",
        "\n",
        "train_aug = Sequential([\n",
        "        layers.experimental.preprocessing.RandomFlip(\"horizontal_and_vertical\", \n",
        "                                                     input_shape = (HEIGHT, WIDTH, 3)),\n",
        "        layers.experimental.preprocessing.RandomZoom(\n",
        "                height_factor=(-0.05, -0.15),\n",
        "                width_factor=(-0.05, -0.15),\n",
        "                fill_mode='nearest'\n",
        "            ),\n",
        "        layers.RandomBrightness(0.2),\n",
        "        layers.RandomContrast(0.2),\n",
        "        layers.RandomTranslation(0.05, 0.05),\n",
        "        layers.RandomRotation(0.2)\n",
        "])"
      ]
    },
    {
      "cell_type": "code",
      "execution_count": null,
      "metadata": {
        "id": "dPUU0nvs_iPa"
      },
      "outputs": [],
      "source": [
        "AUTOTUNE = tf.data.AUTOTUNE\n",
        "\n",
        "train_data = train_data.cache().shuffle(1000).prefetch(buffer_size=AUTOTUNE)\n",
        "val_data = val_data.cache().shuffle(1000).prefetch(buffer_size=AUTOTUNE)"
      ]
    },
    {
      "cell_type": "markdown",
      "metadata": {
        "id": "DpgiM3OT2CA9"
      },
      "source": [
        "1.   Baseline Model\n",
        "\n",
        "\n"
      ]
    },
    {
      "cell_type": "code",
      "execution_count": null,
      "metadata": {
        "id": "PEVs8sJLsn7I"
      },
      "outputs": [],
      "source": [
        "def base_model():\n",
        "  model = Sequential()\n",
        "  #model.add(train_aug)\n",
        "  model.add(layers.Conv2D(16, kernel_size=(3,3), padding = 'same', activation = 'relu'))\n",
        "  model.add(layers.MaxPooling2D())\n",
        "  model.add(layers.Conv2D(32, kernel_size=(3,3), padding = 'same', activation = 'relu'))\n",
        "  model.add(layers.MaxPooling2D())\n",
        "  model.add(layers.Conv2D(64, kernel_size = (3,3), padding = 'same', activation = 'relu'))\n",
        "  model.add(layers.MaxPooling2D())\n",
        "  model.add(layers.Flatten())\n",
        "  model.add(layers.Dense(128, activation = 'relu'))\n",
        "  model.add(layers.Dense(num_classes))\n",
        "\n",
        "  model.compile(optimizer = keras.optimizers.Adam(learning_rate=0.001),\n",
        "                loss = tf.keras.losses.SparseCategoricalCrossentropy(from_logits=True),\n",
        "                metrics = ['accuracy'])\n",
        "  \n",
        "  return model\n"
      ]
    },
    {
      "cell_type": "code",
      "execution_count": null,
      "metadata": {
        "id": "jrFxyeEtutw0"
      },
      "outputs": [],
      "source": [
        "b_model = base_model()"
      ]
    },
    {
      "cell_type": "code",
      "source": [
        "b_model.summary()"
      ],
      "metadata": {
        "colab": {
          "base_uri": "https://localhost:8080/"
        },
        "id": "zcp6kDlQOgn1",
        "outputId": "3781771a-6ab5-471e-8723-1f225e198a76"
      },
      "execution_count": null,
      "outputs": [
        {
          "output_type": "stream",
          "name": "stdout",
          "text": [
            "Model: \"sequential_3\"\n",
            "_________________________________________________________________\n",
            " Layer (type)                Output Shape              Param #   \n",
            "=================================================================\n",
            " conv2d_6 (Conv2D)           (None, 64, 64, 16)        448       \n",
            "                                                                 \n",
            " max_pooling2d_6 (MaxPooling  (None, 32, 32, 16)       0         \n",
            " 2D)                                                             \n",
            "                                                                 \n",
            " conv2d_7 (Conv2D)           (None, 32, 32, 32)        4640      \n",
            "                                                                 \n",
            " max_pooling2d_7 (MaxPooling  (None, 16, 16, 32)       0         \n",
            " 2D)                                                             \n",
            "                                                                 \n",
            " conv2d_8 (Conv2D)           (None, 16, 16, 64)        18496     \n",
            "                                                                 \n",
            " max_pooling2d_8 (MaxPooling  (None, 8, 8, 64)         0         \n",
            " 2D)                                                             \n",
            "                                                                 \n",
            " flatten_2 (Flatten)         (None, 4096)              0         \n",
            "                                                                 \n",
            " dense_4 (Dense)             (None, 128)               524416    \n",
            "                                                                 \n",
            " dense_5 (Dense)             (None, 22)                2838      \n",
            "                                                                 \n",
            "=================================================================\n",
            "Total params: 550,838\n",
            "Trainable params: 550,838\n",
            "Non-trainable params: 0\n",
            "_________________________________________________________________\n"
          ]
        }
      ]
    },
    {
      "cell_type": "code",
      "execution_count": null,
      "metadata": {
        "colab": {
          "base_uri": "https://localhost:8080/"
        },
        "id": "pfn7LGjuuwzo",
        "outputId": "7e410957-aec6-4a0d-9c4e-e04a965312d7"
      },
      "outputs": [
        {
          "output_type": "stream",
          "name": "stdout",
          "text": [
            "Epoch 1/10\n",
            "86/86 [==============================] - 542s 172ms/step - loss: 4.2078 - accuracy: 0.2993 - val_loss: 2.0539 - val_accuracy: 0.2909\n",
            "Epoch 2/10\n",
            "86/86 [==============================] - 1s 6ms/step - loss: 1.1128 - accuracy: 0.6661 - val_loss: 1.1587 - val_accuracy: 0.6364\n",
            "Epoch 3/10\n",
            "86/86 [==============================] - 0s 6ms/step - loss: 0.6677 - accuracy: 0.8004 - val_loss: 1.1849 - val_accuracy: 0.6545\n",
            "Epoch 4/10\n",
            "86/86 [==============================] - 0s 5ms/step - loss: 0.4492 - accuracy: 0.8624 - val_loss: 1.2650 - val_accuracy: 0.6909\n",
            "Epoch 5/10\n",
            "86/86 [==============================] - 0s 5ms/step - loss: 0.2993 - accuracy: 0.9024 - val_loss: 1.3084 - val_accuracy: 0.6636\n",
            "Epoch 6/10\n",
            "86/86 [==============================] - 0s 6ms/step - loss: 0.2593 - accuracy: 0.9172 - val_loss: 1.2290 - val_accuracy: 0.7364\n",
            "Epoch 7/10\n",
            "86/86 [==============================] - 1s 6ms/step - loss: 0.1224 - accuracy: 0.9670 - val_loss: 1.1217 - val_accuracy: 0.7818\n",
            "Epoch 8/10\n",
            "86/86 [==============================] - 0s 6ms/step - loss: 0.1087 - accuracy: 0.9675 - val_loss: 1.4213 - val_accuracy: 0.7364\n",
            "Epoch 9/10\n",
            "86/86 [==============================] - 0s 6ms/step - loss: 0.0805 - accuracy: 0.9761 - val_loss: 1.6974 - val_accuracy: 0.7273\n",
            "Epoch 10/10\n",
            "86/86 [==============================] - 0s 6ms/step - loss: 0.0942 - accuracy: 0.9712 - val_loss: 1.5034 - val_accuracy: 0.7273\n",
            "CPU times: user 10min 30s, sys: 4min 52s, total: 15min 22s\n",
            "Wall time: 9min 7s\n"
          ]
        }
      ],
      "source": [
        "%%time\n",
        "EPOCHS = 10\n",
        "base_history = b_model.fit(train_data,\n",
        "                           validation_data = val_data,\n",
        "                           epochs = EPOCHS,\n",
        "                           class_weight=class_weights)"
      ]
    },
    {
      "cell_type": "markdown",
      "metadata": {
        "id": "x6oZJ9BeH3X6"
      },
      "source": [
        "Baseline Results"
      ]
    },
    {
      "cell_type": "code",
      "execution_count": null,
      "metadata": {
        "colab": {
          "base_uri": "https://localhost:8080/",
          "height": 531
        },
        "id": "y2S83CRNvOba",
        "outputId": "d5aa49ca-ba39-40ce-bd60-b9e0ac068f54"
      },
      "outputs": [
        {
          "output_type": "execute_result",
          "data": {
            "text/plain": [
              "<AxesSubplot:>"
            ]
          },
          "metadata": {},
          "execution_count": 53
        },
        {
          "output_type": "display_data",
          "data": {
            "text/plain": [
              "<Figure size 432x288 with 1 Axes>"
            ],
            "image/png": "[encoded data removed]"
          },
          "metadata": {
            "needs_background": "light"
          }
        },
        {
          "output_type": "display_data",
          "data": {
            "text/plain": [
              "<Figure size 432x288 with 1 Axes>"
            ],
            "image/png": "[encoded data removed]"
          },
          "metadata": {
            "needs_background": "light"
          }
        }
      ],
      "source": [
        "history_df = pd.DataFrame(base_history.history)\n",
        "history_df[['loss', 'val_loss']].plot()\n",
        "history_df[['accuracy', 'val_accuracy']].plot()"
      ]
    },
    {
      "cell_type": "code",
      "source": [
        "from tqdm import tqdm\n",
        "\n",
        "trues = []\n",
        "preds = []\n",
        "for img, label in tqdm(test_data):\n",
        "  pred = b_model.predict(img, verbose=0)\n",
        "  pred = pred.argmax(-1)\n",
        "  trues.append(label[0])\n",
        "  preds.append(pred[0])"
      ],
      "metadata": {
        "colab": {
          "base_uri": "https://localhost:8080/"
        },
        "id": "oQIJHnHNg70T",
        "outputId": "c4b57d33-4663-4b01-be30-e44872939ccf"
      },
      "execution_count": null,
      "outputs": [
        {
          "output_type": "stream",
          "name": "stderr",
          "text": [
            "100%|██████████| 3/3 [00:13<00:00,  4.60s/it]\n"
          ]
        }
      ]
    },
    {
      "cell_type": "code",
      "source": [
        "f1_score(trues, preds, average='macro')"
      ],
      "metadata": {
        "colab": {
          "base_uri": "https://localhost:8080/"
        },
        "id": "-D5GyL58hCC6",
        "outputId": "a19d38f5-2999-4c94-91c6-95cfd1eb2fb5"
      },
      "execution_count": null,
      "outputs": [
        {
          "output_type": "execute_result",
          "data": {
            "text/plain": [
              "0.5"
            ]
          },
          "metadata": {},
          "execution_count": 55
        }
      ]
    },
    {
      "cell_type": "code",
      "source": [
        "recall_score(trues, preds, average='macro', zero_division = 'warn')"
      ],
      "metadata": {
        "colab": {
          "base_uri": "https://localhost:8080/"
        },
        "id": "GcFPs2nqhFdi",
        "outputId": "b36c4ca6-1b52-4df4-fda7-f55667b97853"
      },
      "execution_count": null,
      "outputs": [
        {
          "output_type": "stream",
          "name": "stderr",
          "text": [
            "/usr/local/lib/python3.9/dist-packages/sklearn/metrics/_classification.py:1344: UndefinedMetricWarning: Recall is ill-defined and being set to 0.0 in labels with no true samples. Use `zero_division` parameter to control this behavior.\n",
            "  _warn_prf(average, modifier, msg_start, len(result))\n"
          ]
        },
        {
          "output_type": "execute_result",
          "data": {
            "text/plain": [
              "0.5"
            ]
          },
          "metadata": {},
          "execution_count": 56
        }
      ]
    },
    {
      "cell_type": "code",
      "source": [
        "precision_score(trues, preds, average='macro', zero_division = 'warn')"
      ],
      "metadata": {
        "colab": {
          "base_uri": "https://localhost:8080/"
        },
        "id": "xKHpOWsDhIMK",
        "outputId": "51d3926d-906c-487c-fa45-773b40767090"
      },
      "execution_count": null,
      "outputs": [
        {
          "output_type": "stream",
          "name": "stderr",
          "text": [
            "/usr/local/lib/python3.9/dist-packages/sklearn/metrics/_classification.py:1344: UndefinedMetricWarning: Precision is ill-defined and being set to 0.0 in labels with no predicted samples. Use `zero_division` parameter to control this behavior.\n",
            "  _warn_prf(average, modifier, msg_start, len(result))\n"
          ]
        },
        {
          "output_type": "execute_result",
          "data": {
            "text/plain": [
              "0.5"
            ]
          },
          "metadata": {},
          "execution_count": 57
        }
      ]
    },
    {
      "cell_type": "markdown",
      "metadata": {
        "id": "2NC0Xf-H17bs"
      },
      "source": [
        "2.   Second Model\n",
        "\n"
      ]
    },
    {
      "cell_type": "code",
      "execution_count": null,
      "metadata": {
        "id": "xhM03eVK0P6x"
      },
      "outputs": [],
      "source": [
        "def second_model():\n",
        "  model = Sequential()\n",
        "  model.add(layers.Rescaling(1./255, input_shape = (HEIGHT, WIDTH, 3)))\n",
        "  model.add(layers.Conv2D(16, kernel_size=(3,3), padding = 'same', activation = 'relu'))\n",
        "  model.add(layers.BatchNormalization())\n",
        "  model.add(layers.MaxPooling2D())\n",
        "  model.add(layers.Conv2D(32, kernel_size=(3,3), padding = 'same', activation = 'relu'))\n",
        "  model.add(layers.BatchNormalization())\n",
        "  model.add(layers.MaxPooling2D())\n",
        "  model.add(layers.Conv2D(64, kernel_size=(3,3), padding = 'same', activation = 'relu'))\n",
        "  model.add(layers.BatchNormalization())\n",
        "  model.add(layers.MaxPooling2D())\n",
        "  model.add(layers.Dense(64, activation = 'relu'))\n",
        "  model.add(layers.Flatten())\n",
        "  model.add(layers.Dense(num_classes, 'softmax'))\n",
        "\n",
        "  model.compile(optimizer = keras.optimizers.Adam(learning_rate=0.001),\n",
        "                loss = tf.keras.losses.SparseCategoricalCrossentropy(from_logits=True),\n",
        "                metrics = ['accuracy'])\n",
        "  \n",
        "  return model"
      ]
    },
    {
      "cell_type": "code",
      "execution_count": null,
      "metadata": {
        "id": "_ALr8Rod1qd6"
      },
      "outputs": [],
      "source": [
        "second_model = second_model()"
      ]
    },
    {
      "cell_type": "code",
      "source": [
        "second_model.summary()"
      ],
      "metadata": {
        "colab": {
          "base_uri": "https://localhost:8080/"
        },
        "id": "kFdmiFsAQa9i",
        "outputId": "7b98c9c4-ece5-4e2b-af34-01169a20de81"
      },
      "execution_count": null,
      "outputs": [
        {
          "output_type": "stream",
          "name": "stdout",
          "text": [
            "Model: \"sequential_4\"\n",
            "_________________________________________________________________\n",
            " Layer (type)                Output Shape              Param #   \n",
            "=================================================================\n",
            " rescaling (Rescaling)       (None, 64, 64, 3)         0         \n",
            "                                                                 \n",
            " conv2d_9 (Conv2D)           (None, 64, 64, 16)        448       \n",
            "                                                                 \n",
            " batch_normalization (BatchN  (None, 64, 64, 16)       64        \n",
            " ormalization)                                                   \n",
            "                                                                 \n",
            " max_pooling2d_9 (MaxPooling  (None, 32, 32, 16)       0         \n",
            " 2D)                                                             \n",
            "                                                                 \n",
            " conv2d_10 (Conv2D)          (None, 32, 32, 32)        4640      \n",
            "                                                                 \n",
            " batch_normalization_1 (Batc  (None, 32, 32, 32)       128       \n",
            " hNormalization)                                                 \n",
            "                                                                 \n",
            " max_pooling2d_10 (MaxPoolin  (None, 16, 16, 32)       0         \n",
            " g2D)                                                            \n",
            "                                                                 \n",
            " conv2d_11 (Conv2D)          (None, 16, 16, 64)        18496     \n",
            "                                                                 \n",
            " batch_normalization_2 (Batc  (None, 16, 16, 64)       256       \n",
            " hNormalization)                                                 \n",
            "                                                                 \n",
            " max_pooling2d_11 (MaxPoolin  (None, 8, 8, 64)         0         \n",
            " g2D)                                                            \n",
            "                                                                 \n",
            " dense_6 (Dense)             (None, 8, 8, 64)          4160      \n",
            "                                                                 \n",
            " flatten_3 (Flatten)         (None, 4096)              0         \n",
            "                                                                 \n",
            " dense_7 (Dense)             (None, 22)                90134     \n",
            "                                                                 \n",
            "=================================================================\n",
            "Total params: 118,326\n",
            "Trainable params: 118,102\n",
            "Non-trainable params: 224\n",
            "_________________________________________________________________\n"
          ]
        }
      ]
    },
    {
      "cell_type": "code",
      "execution_count": null,
      "metadata": {
        "colab": {
          "base_uri": "https://localhost:8080/"
        },
        "id": "c3ZBVCyV1vDV",
        "outputId": "42760b79-65d4-4df3-c73d-437d740ba4a7"
      },
      "outputs": [
        {
          "output_type": "stream",
          "name": "stdout",
          "text": [
            "Epoch 1/30\n"
          ]
        },
        {
          "output_type": "stream",
          "name": "stderr",
          "text": [
            "/usr/local/lib/python3.9/dist-packages/keras/backend.py:5585: UserWarning: \"`sparse_categorical_crossentropy` received `from_logits=True`, but the `output` argument was produced by a Softmax activation and thus does not represent logits. Was this intended?\n",
            "  output, from_logits = _get_logits(\n"
          ]
        },
        {
          "output_type": "stream",
          "name": "stdout",
          "text": [
            "86/86 [==============================] - 3s 11ms/step - loss: 1.1855 - accuracy: 0.6462 - val_loss: 5.1402 - val_accuracy: 0.0455\n",
            "Epoch 2/30\n",
            "86/86 [==============================] - 1s 7ms/step - loss: 0.3619 - accuracy: 0.8856 - val_loss: 9.1625 - val_accuracy: 0.0455\n",
            "Epoch 3/30\n",
            "86/86 [==============================] - 1s 7ms/step - loss: 0.1959 - accuracy: 0.9394 - val_loss: 10.9866 - val_accuracy: 0.0545\n",
            "Epoch 4/30\n",
            "86/86 [==============================] - 1s 7ms/step - loss: 0.0997 - accuracy: 0.9724 - val_loss: 8.4176 - val_accuracy: 0.1364\n",
            "Epoch 5/30\n",
            "86/86 [==============================] - 1s 7ms/step - loss: 0.1056 - accuracy: 0.9682 - val_loss: 6.1218 - val_accuracy: 0.2182\n",
            "Epoch 6/30\n",
            "86/86 [==============================] - 1s 8ms/step - loss: 0.0768 - accuracy: 0.9806 - val_loss: 3.4523 - val_accuracy: 0.3727\n",
            "Epoch 7/30\n",
            "86/86 [==============================] - 1s 7ms/step - loss: 0.0280 - accuracy: 0.9949 - val_loss: 1.8207 - val_accuracy: 0.6182\n",
            "Epoch 8/30\n",
            "86/86 [==============================] - 1s 7ms/step - loss: 0.0096 - accuracy: 0.9988 - val_loss: 1.2043 - val_accuracy: 0.7727\n",
            "Epoch 9/30\n",
            "86/86 [==============================] - 1s 8ms/step - loss: 0.0052 - accuracy: 0.9995 - val_loss: 1.0477 - val_accuracy: 0.7545\n",
            "Epoch 10/30\n",
            "86/86 [==============================] - 1s 9ms/step - loss: 0.0025 - accuracy: 1.0000 - val_loss: 1.1928 - val_accuracy: 0.7909\n",
            "Epoch 11/30\n",
            "86/86 [==============================] - 1s 8ms/step - loss: 0.0019 - accuracy: 1.0000 - val_loss: 1.2321 - val_accuracy: 0.7909\n",
            "Epoch 12/30\n",
            "86/86 [==============================] - 1s 7ms/step - loss: 0.0015 - accuracy: 1.0000 - val_loss: 1.2897 - val_accuracy: 0.8000\n",
            "Epoch 13/30\n",
            "86/86 [==============================] - 1s 7ms/step - loss: 0.0013 - accuracy: 1.0000 - val_loss: 1.2683 - val_accuracy: 0.7909\n",
            "Epoch 14/30\n",
            "86/86 [==============================] - 1s 7ms/step - loss: 0.0011 - accuracy: 1.0000 - val_loss: 1.3114 - val_accuracy: 0.7818\n",
            "Epoch 15/30\n",
            "86/86 [==============================] - 1s 8ms/step - loss: 9.7069e-04 - accuracy: 1.0000 - val_loss: 1.3133 - val_accuracy: 0.7909\n",
            "Epoch 16/30\n",
            "86/86 [==============================] - 1s 7ms/step - loss: 8.4802e-04 - accuracy: 1.0000 - val_loss: 1.3095 - val_accuracy: 0.7818\n",
            "Epoch 17/30\n",
            "86/86 [==============================] - 1s 8ms/step - loss: 7.6357e-04 - accuracy: 1.0000 - val_loss: 1.3197 - val_accuracy: 0.7909\n",
            "Epoch 18/30\n",
            "86/86 [==============================] - 1s 7ms/step - loss: 6.7457e-04 - accuracy: 1.0000 - val_loss: 1.3755 - val_accuracy: 0.7909\n",
            "Epoch 19/30\n",
            "86/86 [==============================] - 1s 7ms/step - loss: 6.0592e-04 - accuracy: 1.0000 - val_loss: 1.3664 - val_accuracy: 0.7818\n",
            "Epoch 20/30\n",
            "86/86 [==============================] - 1s 8ms/step - loss: 5.4191e-04 - accuracy: 1.0000 - val_loss: 1.3373 - val_accuracy: 0.7818\n",
            "Epoch 21/30\n",
            "86/86 [==============================] - 1s 7ms/step - loss: 4.9931e-04 - accuracy: 1.0000 - val_loss: 1.3565 - val_accuracy: 0.7818\n",
            "Epoch 22/30\n",
            "86/86 [==============================] - 1s 8ms/step - loss: 4.4636e-04 - accuracy: 1.0000 - val_loss: 1.3711 - val_accuracy: 0.8000\n",
            "Epoch 23/30\n",
            "86/86 [==============================] - 1s 9ms/step - loss: 4.1347e-04 - accuracy: 1.0000 - val_loss: 1.3899 - val_accuracy: 0.7909\n",
            "Epoch 24/30\n",
            "86/86 [==============================] - 1s 9ms/step - loss: 3.7470e-04 - accuracy: 1.0000 - val_loss: 1.3899 - val_accuracy: 0.8000\n",
            "Epoch 25/30\n",
            "86/86 [==============================] - 1s 8ms/step - loss: 3.4134e-04 - accuracy: 1.0000 - val_loss: 1.4487 - val_accuracy: 0.7909\n",
            "Epoch 26/30\n",
            "86/86 [==============================] - 1s 7ms/step - loss: 3.1384e-04 - accuracy: 1.0000 - val_loss: 1.4586 - val_accuracy: 0.8000\n",
            "Epoch 27/30\n",
            "86/86 [==============================] - 1s 7ms/step - loss: 2.9011e-04 - accuracy: 1.0000 - val_loss: 1.4589 - val_accuracy: 0.7909\n",
            "Epoch 28/30\n",
            "86/86 [==============================] - 1s 7ms/step - loss: 2.6641e-04 - accuracy: 1.0000 - val_loss: 1.4374 - val_accuracy: 0.8000\n",
            "Epoch 29/30\n",
            "86/86 [==============================] - 1s 8ms/step - loss: 2.4503e-04 - accuracy: 1.0000 - val_loss: 1.4553 - val_accuracy: 0.7909\n",
            "Epoch 30/30\n",
            "86/86 [==============================] - 1s 7ms/step - loss: 2.2891e-04 - accuracy: 1.0000 - val_loss: 1.4603 - val_accuracy: 0.7909\n",
            "CPU times: user 23.4 s, sys: 1.47 s, total: 24.9 s\n",
            "Wall time: 29.6 s\n"
          ]
        }
      ],
      "source": [
        "%%time\n",
        "EPOCHS = 30\n",
        "second_history = second_model.fit(train_data,\n",
        "                                  validation_data = val_data,\n",
        "                                  epochs = EPOCHS,\n",
        "                                  class_weight = class_weights)"
      ]
    },
    {
      "cell_type": "markdown",
      "metadata": {
        "id": "fDWHSnvJIACY"
      },
      "source": [
        "Model 2 Results"
      ]
    },
    {
      "cell_type": "code",
      "execution_count": null,
      "metadata": {
        "colab": {
          "base_uri": "https://localhost:8080/",
          "height": 530
        },
        "id": "FBkdQI3H11Lo",
        "outputId": "b1b350b5-ddfd-4901-edf2-8e3811146119"
      },
      "outputs": [
        {
          "output_type": "execute_result",
          "data": {
            "text/plain": [
              "<AxesSubplot:>"
            ]
          },
          "metadata": {},
          "execution_count": 62
        },
        {
          "output_type": "display_data",
          "data": {
            "text/plain": [
              "<Figure size 432x288 with 1 Axes>"
            ],
            "image/png": "[encoded data removed]"
          },
          "metadata": {
            "needs_background": "light"
          }
        },
        {
          "output_type": "display_data",
          "data": {
            "text/plain": [
              "<Figure size 432x288 with 1 Axes>"
            ],
            "image/png": "[encoded data removed]"
          },
          "metadata": {
            "needs_background": "light"
          }
        }
      ],
      "source": [
        "history_df = pd.DataFrame(second_history.history)\n",
        "history_df[['loss', 'val_loss']].plot()\n",
        "history_df[['accuracy', 'val_accuracy']].plot()"
      ]
    },
    {
      "cell_type": "code",
      "execution_count": null,
      "metadata": {
        "colab": {
          "base_uri": "https://localhost:8080/"
        },
        "id": "6Ujz2aa2aBB-",
        "outputId": "bff29d4e-3fd8-425e-e11c-4e6dd9c5bdfa"
      },
      "outputs": [
        {
          "output_type": "stream",
          "name": "stderr",
          "text": [
            "100%|██████████| 3/3 [00:15<00:00,  5.12s/it]\n"
          ]
        }
      ],
      "source": [
        "from tqdm import tqdm\n",
        "\n",
        "trues = []\n",
        "preds = []\n",
        "for img, label in tqdm(test_data):\n",
        "  pred = second_model.predict(img, verbose=0)\n",
        "  pred = pred.argmax(-1)\n",
        "  trues.append(label[0])\n",
        "  preds.append(pred[0])"
      ]
    },
    {
      "cell_type": "code",
      "execution_count": null,
      "metadata": {
        "colab": {
          "base_uri": "https://localhost:8080/"
        },
        "id": "QH6xv2E1aKRb",
        "outputId": "bf74faaa-0d35-4d79-cd00-122a5fc7eb1a"
      },
      "outputs": [
        {
          "output_type": "execute_result",
          "data": {
            "text/plain": [
              "1.0"
            ]
          },
          "metadata": {},
          "execution_count": 64
        }
      ],
      "source": [
        "f1_score(trues, preds, average='macro')"
      ]
    },
    {
      "cell_type": "code",
      "execution_count": null,
      "metadata": {
        "colab": {
          "base_uri": "https://localhost:8080/"
        },
        "id": "b5nYF0_CaWae",
        "outputId": "754ffb85-e5f9-46fd-e458-51d49a8e6820"
      },
      "outputs": [
        {
          "output_type": "execute_result",
          "data": {
            "text/plain": [
              "1.0"
            ]
          },
          "metadata": {},
          "execution_count": 65
        }
      ],
      "source": [
        "recall_score(trues, preds, average='macro', zero_division = 'warn')"
      ]
    },
    {
      "cell_type": "code",
      "execution_count": null,
      "metadata": {
        "colab": {
          "base_uri": "https://localhost:8080/"
        },
        "id": "Y88ZLta2aXqr",
        "outputId": "997fac11-bd13-4aa1-ef60-609eb4db8323"
      },
      "outputs": [
        {
          "output_type": "execute_result",
          "data": {
            "text/plain": [
              "1.0"
            ]
          },
          "metadata": {},
          "execution_count": 66
        }
      ],
      "source": [
        "precision_score(trues, preds, average='macro', zero_division = 'warn')"
      ]
    },
    {
      "cell_type": "markdown",
      "metadata": {
        "id": "CC4da2A82Q1-"
      },
      "source": [
        "3.   Model 3\n",
        "\n"
      ]
    },
    {
      "cell_type": "code",
      "execution_count": null,
      "metadata": {
        "id": "keoSfYWJ2GxU"
      },
      "outputs": [],
      "source": [
        "def third_model():\n",
        "  model = Sequential()\n",
        "  #model.add(train_aug)\n",
        "  model.add(layers.Rescaling(1./255, input_shape = (HEIGHT, WIDTH, 3)))\n",
        "  model.add(layers.Conv2D(16, kernel_size=(3,3), padding = 'same', activation = 'relu'))\n",
        "  model.add(layers.BatchNormalization())\n",
        "  model.add(layers.MaxPooling2D())\n",
        "  model.add(layers.Flatten())\n",
        "  model.add(layers.Dense(num_classes))\n",
        "\n",
        "  model.compile(optimizer = keras.optimizers.Adam(learning_rate=0.001),\n",
        "                loss = tf.keras.losses.SparseCategoricalCrossentropy(from_logits=True),\n",
        "                metrics = ['accuracy'])\n",
        "  \n",
        "  return model"
      ]
    },
    {
      "cell_type": "code",
      "execution_count": null,
      "metadata": {
        "id": "loNnO1IS2YLZ"
      },
      "outputs": [],
      "source": [
        "third_model = third_model()"
      ]
    },
    {
      "cell_type": "code",
      "source": [
        "third_model.summary()"
      ],
      "metadata": {
        "colab": {
          "base_uri": "https://localhost:8080/"
        },
        "id": "2msnlELnaaOR",
        "outputId": "09aac133-8b8c-4c4b-a9e7-74976305838e"
      },
      "execution_count": null,
      "outputs": [
        {
          "output_type": "stream",
          "name": "stdout",
          "text": [
            "Model: \"sequential_5\"\n",
            "_________________________________________________________________\n",
            " Layer (type)                Output Shape              Param #   \n",
            "=================================================================\n",
            " rescaling_1 (Rescaling)     (None, 64, 64, 3)         0         \n",
            "                                                                 \n",
            " conv2d_12 (Conv2D)          (None, 64, 64, 16)        448       \n",
            "                                                                 \n",
            " batch_normalization_3 (Batc  (None, 64, 64, 16)       64        \n",
            " hNormalization)                                                 \n",
            "                                                                 \n",
            " max_pooling2d_12 (MaxPoolin  (None, 32, 32, 16)       0         \n",
            " g2D)                                                            \n",
            "                                                                 \n",
            " flatten_4 (Flatten)         (None, 16384)             0         \n",
            "                                                                 \n",
            " dense_8 (Dense)             (None, 22)                360470    \n",
            "                                                                 \n",
            "=================================================================\n",
            "Total params: 360,982\n",
            "Trainable params: 360,950\n",
            "Non-trainable params: 32\n",
            "_________________________________________________________________\n"
          ]
        }
      ]
    },
    {
      "cell_type": "code",
      "execution_count": null,
      "metadata": {
        "id": "KzOFQG0U2cQS",
        "colab": {
          "base_uri": "https://localhost:8080/"
        },
        "outputId": "4d6b1546-fd41-422e-f9a4-e815b8d0dea5"
      },
      "outputs": [
        {
          "output_type": "stream",
          "name": "stdout",
          "text": [
            "Epoch 1/10\n",
            "86/86 [==============================] - 2s 7ms/step - loss: 1.3199 - accuracy: 0.6221 - val_loss: 2.4826 - val_accuracy: 0.3545\n",
            "Epoch 2/10\n",
            "86/86 [==============================] - 0s 5ms/step - loss: 0.3598 - accuracy: 0.8975 - val_loss: 2.2169 - val_accuracy: 0.4182\n",
            "Epoch 3/10\n",
            "86/86 [==============================] - 0s 5ms/step - loss: 0.1843 - accuracy: 0.9499 - val_loss: 1.8109 - val_accuracy: 0.5636\n",
            "Epoch 4/10\n",
            "86/86 [==============================] - 0s 5ms/step - loss: 0.0863 - accuracy: 0.9796 - val_loss: 1.3811 - val_accuracy: 0.6182\n",
            "Epoch 5/10\n",
            "86/86 [==============================] - 0s 5ms/step - loss: 0.0388 - accuracy: 0.9909 - val_loss: 1.1579 - val_accuracy: 0.6455\n",
            "Epoch 6/10\n",
            "86/86 [==============================] - 0s 5ms/step - loss: 0.0172 - accuracy: 0.9979 - val_loss: 1.0090 - val_accuracy: 0.7636\n",
            "Epoch 7/10\n",
            "86/86 [==============================] - 0s 5ms/step - loss: 0.0126 - accuracy: 0.9993 - val_loss: 1.0868 - val_accuracy: 0.7364\n",
            "Epoch 8/10\n",
            "86/86 [==============================] - 0s 5ms/step - loss: 0.0045 - accuracy: 0.9998 - val_loss: 1.2986 - val_accuracy: 0.7455\n",
            "Epoch 9/10\n",
            "86/86 [==============================] - 0s 5ms/step - loss: 0.0041 - accuracy: 0.9993 - val_loss: 1.3071 - val_accuracy: 0.7636\n",
            "Epoch 10/10\n",
            "86/86 [==============================] - 0s 5ms/step - loss: 0.0021 - accuracy: 1.0000 - val_loss: 1.3213 - val_accuracy: 0.7364\n",
            "CPU times: user 5.85 s, sys: 413 ms, total: 6.26 s\n",
            "Wall time: 6.64 s\n"
          ]
        }
      ],
      "source": [
        "%%time\n",
        "EPOCHS = 10\n",
        "third_history = third_model.fit(train_data,\n",
        "                                validation_data = val_data,\n",
        "                                epochs = EPOCHS,\n",
        "                                class_weight = class_weights)"
      ]
    },
    {
      "cell_type": "code",
      "execution_count": null,
      "metadata": {
        "id": "k25RMY7ndToV",
        "colab": {
          "base_uri": "https://localhost:8080/"
        },
        "outputId": "d48cc46c-576e-4c7e-d118-6a631d20276d"
      },
      "outputs": [
        {
          "output_type": "stream",
          "name": "stderr",
          "text": [
            "100%|██████████| 3/3 [00:13<00:00,  4.38s/it]\n"
          ]
        }
      ],
      "source": [
        "from tqdm import tqdm\n",
        "\n",
        "trues = []\n",
        "preds = []\n",
        "for img, label in tqdm(test_data):\n",
        "  pred = third_model.predict(img, verbose=0)\n",
        "  pred = pred.argmax(-1)\n",
        "  trues.append(label[0])\n",
        "  preds.append(pred[0])"
      ]
    },
    {
      "cell_type": "code",
      "execution_count": null,
      "metadata": {
        "id": "FAGAbz_SdYN9",
        "colab": {
          "base_uri": "https://localhost:8080/"
        },
        "outputId": "c179b71c-a8b9-4a5f-d83b-8731f40a6cd8"
      },
      "outputs": [
        {
          "output_type": "execute_result",
          "data": {
            "text/plain": [
              "0.5"
            ]
          },
          "metadata": {},
          "execution_count": 72
        }
      ],
      "source": [
        "f1_score(trues, preds, average = 'macro')"
      ]
    },
    {
      "cell_type": "code",
      "execution_count": null,
      "metadata": {
        "id": "Zzjk-FlAde59",
        "colab": {
          "base_uri": "https://localhost:8080/"
        },
        "outputId": "14e46729-bcf7-44cb-b42a-5d9f9e6e0f12"
      },
      "outputs": [
        {
          "output_type": "stream",
          "name": "stderr",
          "text": [
            "/usr/local/lib/python3.9/dist-packages/sklearn/metrics/_classification.py:1344: UndefinedMetricWarning: Recall is ill-defined and being set to 0.0 in labels with no true samples. Use `zero_division` parameter to control this behavior.\n",
            "  _warn_prf(average, modifier, msg_start, len(result))\n"
          ]
        },
        {
          "output_type": "execute_result",
          "data": {
            "text/plain": [
              "0.5"
            ]
          },
          "metadata": {},
          "execution_count": 64
        }
      ],
      "source": [
        "recall_score(trues, preds, average = 'macro')"
      ]
    },
    {
      "cell_type": "markdown",
      "metadata": {
        "id": "tLo22p1iINe7"
      },
      "source": [
        "Model 3 Results"
      ]
    },
    {
      "cell_type": "code",
      "execution_count": null,
      "metadata": {
        "id": "jNB8UdcK2hkK",
        "colab": {
          "base_uri": "https://localhost:8080/",
          "height": 530
        },
        "outputId": "97d2ce70-5ca4-4966-f313-ba43db53ad34"
      },
      "outputs": [
        {
          "output_type": "execute_result",
          "data": {
            "text/plain": [
              "<AxesSubplot:>"
            ]
          },
          "metadata": {},
          "execution_count": 65
        },
        {
          "output_type": "display_data",
          "data": {
            "text/plain": [
              "<Figure size 432x288 with 1 Axes>"
            ],
            "image/png": "[encoded data removed]"
          },
          "metadata": {
            "needs_background": "light"
          }
        },
        {
          "output_type": "display_data",
          "data": {
            "text/plain": [
              "<Figure size 432x288 with 1 Axes>"
            ],
            "image/png": "[encoded data removed]"
          },
          "metadata": {
            "needs_background": "light"
          }
        }
      ],
      "source": [
        "history_df = pd.DataFrame(third_history.history)\n",
        "history_df[['loss', 'val_loss']].plot()\n",
        "history_df[['accuracy', 'val_accuracy']].plot()"
      ]
    },
    {
      "cell_type": "markdown",
      "metadata": {
        "id": "PRyna-bNIQ6h"
      },
      "source": [
        "###Hyperparameter Tuning"
      ]
    },
    {
      "cell_type": "code",
      "execution_count": null,
      "metadata": {
        "colab": {
          "base_uri": "https://localhost:8080/"
        },
        "id": "mBaH5nUaK1dO",
        "outputId": "562ee06f-7fd0-42bb-d2a4-cc3e7a39cfad"
      },
      "outputs": [
        {
          "name": "stdout",
          "output_type": "stream",
          "text": [
            "\u001b[2K     \u001b[90m━━━━━━━━━━━━━━━━━━━━━━━━━━━━━━━━━━━━━━━\u001b[0m \u001b[32m167.3/167.3 KB\u001b[0m \u001b[31m6.6 MB/s\u001b[0m eta \u001b[36m0:00:00\u001b[0m\n",
            "\u001b[2K     \u001b[90m━━━━━━━━━━━━━━━━━━━━━━━━━━━━━━━━━━━━━━━━\u001b[0m \u001b[32m1.6/1.6 MB\u001b[0m \u001b[31m39.1 MB/s\u001b[0m eta \u001b[36m0:00:00\u001b[0m\n",
            "\u001b[?25h"
          ]
        }
      ],
      "source": [
        "!pip install -q -U keras-tuner"
      ]
    },
    {
      "cell_type": "code",
      "execution_count": null,
      "metadata": {
        "id": "JiDiJVAwUrvy"
      },
      "outputs": [],
      "source": [
        "import keras_tuner as kt\n",
        "from keras_tuner import HyperModel, RandomSearch\n",
        "from keras.metrics import AUC, Precision, Recall, Accuracy\n",
        "from sklearn.metrics import accuracy_score, f1_score, precision_score, recall_score, confusion_matrix, roc_auc_score"
      ]
    },
    {
      "cell_type": "code",
      "execution_count": null,
      "metadata": {
        "id": "h7bHv-O2Bfvn"
      },
      "outputs": [],
      "source": [
        "%reload_ext tensorboard\n",
        "%tensorboard --logdir /keras_tuner_dir/tb_logs"
      ]
    },
    {
      "cell_type": "code",
      "execution_count": null,
      "metadata": {
        "colab": {
          "base_uri": "https://localhost:8080/"
        },
        "id": "N2Xg2K2REDGI",
        "outputId": "a48983db-38ef-4930-8eaf-8d870624cb05"
      },
      "outputs": [
        {
          "name": "stdout",
          "output_type": "stream",
          "text": [
            "Trial 30 Complete [00h 06m 28s]\n",
            "val_accuracy: 0.04545454680919647\n",
            "\n",
            "Best val_accuracy So Far: 0.5454545617103577\n",
            "Total elapsed time: 01h 21m 51s\n",
            "CPU times: user 4h 1min 27s, sys: 51min 9s, total: 4h 52min 37s\n",
            "Wall time: 1h 21min 53s\n"
          ]
        }
      ],
      "source": [
        "%%time\n",
        "#%reload_ext tensorboard\n",
        "def build_model(hp):\n",
        "    # create model object\n",
        "      model = Sequential()\n",
        "      #model.add(train_aug)\n",
        "      model.add(layers.Rescaling(1./255))\n",
        "    #adding first convolutional layer    \n",
        "      model.add(layers.Conv2D(filters=hp.Int('conv_1_filter', min_value=8, max_value=128, step=15), kernel_size=hp.Choice('conv_1_kernel', values = [3,5]), activation='relu', input_shape=(HEIGHT, WIDTH, 3)))\n",
        "      model.add(layers.MaxPooling2D())\n",
        "    # adding second convolutional layer \n",
        "      model.add(layers.Conv2D(filters=hp.Int('conv_2_filter', min_value=16, max_value=128, step=15),kernel_size=hp.Choice('conv_2_kernel', values = [3,5]), activation='relu'))  \n",
        "      model.add(layers.MaxPooling2D())\n",
        "    # adding third convolutional layer\n",
        "      model.add(layers.Conv2D(filters=hp.Int('conv_3_filter', min_value=16, max_value=128, step=15),kernel_size=hp.Choice('conv_3_kernel', values = [3,5]), activation='relu'))    \n",
        "      model.add(layers.MaxPooling2D())\n",
        "      model.add(layers.Flatten())\n",
        "    # adding dense layer    \n",
        "      model.add(layers.Dense(units=hp.Int('dense_1_units', min_value=16, max_value=128, step=16),activation='relu'))\n",
        "      model.add(layers.Dense(units=hp.Int('dense_2_units', min_value=16, max_value=128, step=16),activation='relu'))\n",
        "    # output layer    \n",
        "      model.add(layers.Dense(22, activation='softmax'))\n",
        "\n",
        "    #compilation of model\n",
        "      model.compile(optimizer=keras.optimizers.Adam(hp.Choice('learning_rate', values=[1e-2, 1e-3, 1e-4])),\n",
        "              loss='sparse_categorical_crossentropy',\n",
        "              metrics=['accuracy'])\n",
        "      return model\n",
        "\n",
        "tuner_ = kt.Hyperband(\n",
        "    build_model,\n",
        "    objective='val_accuracy',\n",
        "    max_epochs=10,\n",
        "    factor=3,\n",
        "    directory='keras_tuner_dir',\n",
        "    project_name='keras_tuner_demo2'\n",
        ")\n",
        "\n",
        "tuner_.search(train_data, \n",
        "              epochs=5, \n",
        "              validation_data=(val_data),\n",
        "              callbacks=[keras.callbacks.TensorBoard(\"/keras_tuner_dir/tb_logs\")])\n",
        "\n",
        "#%tensorboard --logdir /keras_tuner_dir/tb_logs"
      ]
    },
    {
      "cell_type": "markdown",
      "metadata": {
        "id": "8lW4NBhpnpac"
      },
      "source": [
        "*********\n",
        "***Nota Bene***\n",
        "\n",
        "If running in Colab, the following two commands will show you the TensorBoard inside Colab:\n",
        "\n",
        "```\n",
        "%load_ext tensorboard\n",
        "\n",
        "%tensorboard --logdir /keras_tuner_dir/tb_logs\n",
        "```\n",
        "\n",
        "\n",
        "\n",
        "\n",
        "********\n",
        "Ref.: https://keras.io/guides/keras_tuner/visualize_tuning/"
      ]
    },
    {
      "cell_type": "markdown",
      "metadata": {
        "id": "rkHW4ZsdoqHN"
      },
      "source": [
        "###Test Tuned Model"
      ]
    },
    {
      "cell_type": "code",
      "execution_count": null,
      "metadata": {
        "id": "tSfUIQ9THCLH"
      },
      "outputs": [],
      "source": [
        "model = tuner_.get_best_models(num_models=1)[0]\n",
        "#summary of best model\n",
        "#model.summary()"
      ]
    },
    {
      "cell_type": "code",
      "execution_count": null,
      "metadata": {
        "colab": {
          "base_uri": "https://localhost:8080/"
        },
        "id": "1iIcHLDFb0xx",
        "outputId": "6471b875-71bc-4dda-f973-5d32e73fd8d0"
      },
      "outputs": [
        {
          "name": "stdout",
          "output_type": "stream",
          "text": [
            "Epoch 1/10\n",
            "134/134 [==============================] - 46s 284ms/step - loss: 1.7068 - accuracy: 0.4328 - val_loss: 1.6870 - val_accuracy: 0.4091\n",
            "Epoch 2/10\n",
            "134/134 [==============================] - 38s 286ms/step - loss: 1.3801 - accuracy: 0.5288 - val_loss: 1.8397 - val_accuracy: 0.4909\n",
            "Epoch 3/10\n",
            "134/134 [==============================] - 38s 284ms/step - loss: 1.2456 - accuracy: 0.5730 - val_loss: 1.8735 - val_accuracy: 0.4455\n",
            "Epoch 4/10\n",
            "134/134 [==============================] - 38s 281ms/step - loss: 1.1089 - accuracy: 0.6259 - val_loss: 2.4401 - val_accuracy: 0.3909\n",
            "Epoch 5/10\n",
            "134/134 [==============================] - 38s 281ms/step - loss: 1.0599 - accuracy: 0.6355 - val_loss: 2.6718 - val_accuracy: 0.2727\n",
            "Epoch 6/10\n",
            "134/134 [==============================] - 38s 283ms/step - loss: 1.0601 - accuracy: 0.6359 - val_loss: 3.0341 - val_accuracy: 0.3455\n",
            "Epoch 7/10\n",
            "134/134 [==============================] - 38s 282ms/step - loss: 0.9392 - accuracy: 0.6825 - val_loss: 3.0992 - val_accuracy: 0.3727\n",
            "Epoch 8/10\n",
            "134/134 [==============================] - 38s 282ms/step - loss: 0.9002 - accuracy: 0.6844 - val_loss: 2.8829 - val_accuracy: 0.3364\n",
            "Epoch 9/10\n",
            "134/134 [==============================] - 38s 282ms/step - loss: 0.8658 - accuracy: 0.7012 - val_loss: 3.0994 - val_accuracy: 0.2818\n",
            "Epoch 10/10\n",
            "134/134 [==============================] - 38s 282ms/step - loss: 0.8764 - accuracy: 0.7003 - val_loss: 2.5081 - val_accuracy: 0.4091\n"
          ]
        },
        {
          "data": {
            "text/plain": [
              "<keras.callbacks.History at 0x7fbccc3e9610>"
            ]
          },
          "execution_count": 26,
          "metadata": {},
          "output_type": "execute_result"
        }
      ],
      "source": [
        "model.fit(train_data,\n",
        "          epochs=10,\n",
        "          validation_data=(val_data)\n",
        "          )"
      ]
    },
    {
      "cell_type": "code",
      "execution_count": null,
      "metadata": {
        "colab": {
          "base_uri": "https://localhost:8080/"
        },
        "id": "3iyp8qVaJLDn",
        "outputId": "c0fcdc0b-16bb-435a-af43-39b35ecc3806"
      },
      "outputs": [
        {
          "name": "stderr",
          "output_type": "stream",
          "text": [
            "100%|██████████| 4/4 [00:02<00:00,  1.99it/s]\n"
          ]
        }
      ],
      "source": [
        "from tqdm import tqdm\n",
        "\n",
        "trues = []\n",
        "preds = []\n",
        "for img, label in tqdm(test_data):\n",
        "  pred = model.predict(img, verbose=0)\n",
        "  pred = pred.argmax(-1)\n",
        "  trues.append(label[0])\n",
        "  preds.append(pred[0])"
      ]
    },
    {
      "cell_type": "code",
      "execution_count": null,
      "metadata": {
        "colab": {
          "base_uri": "https://localhost:8080/"
        },
        "id": "vCENIRbls2lx",
        "outputId": "f5b6bb1e-e81e-4338-809c-ca762629486a"
      },
      "outputs": [
        {
          "data": {
            "text/plain": [
              "0.3333333333333333"
            ]
          },
          "execution_count": 28,
          "metadata": {},
          "output_type": "execute_result"
        }
      ],
      "source": [
        "f1_score(trues, preds, average='macro')"
      ]
    },
    {
      "cell_type": "code",
      "execution_count": null,
      "metadata": {
        "colab": {
          "base_uri": "https://localhost:8080/"
        },
        "id": "u9g1QM69GQYQ",
        "outputId": "7f2b361f-cb6a-4144-962d-8ddd62712d54"
      },
      "outputs": [
        {
          "name": "stderr",
          "output_type": "stream",
          "text": [
            "/usr/local/lib/python3.9/dist-packages/sklearn/metrics/_classification.py:1344: UndefinedMetricWarning: Precision is ill-defined and being set to 0.0 in labels with no predicted samples. Use `zero_division` parameter to control this behavior.\n",
            "  _warn_prf(average, modifier, msg_start, len(result))\n"
          ]
        },
        {
          "data": {
            "text/plain": [
              "0.3"
            ]
          },
          "execution_count": 30,
          "metadata": {},
          "output_type": "execute_result"
        }
      ],
      "source": [
        "precision_score(trues, preds, average='macro')"
      ]
    },
    {
      "cell_type": "code",
      "execution_count": null,
      "metadata": {
        "colab": {
          "base_uri": "https://localhost:8080/"
        },
        "id": "9VUp4MvVGYax",
        "outputId": "2be56f12-110c-4df7-ac41-1d23b3c6c53e"
      },
      "outputs": [
        {
          "name": "stderr",
          "output_type": "stream",
          "text": [
            "/usr/local/lib/python3.9/dist-packages/sklearn/metrics/_classification.py:1344: UndefinedMetricWarning: Recall is ill-defined and being set to 0.0 in labels with no true samples. Use `zero_division` parameter to control this behavior.\n",
            "  _warn_prf(average, modifier, msg_start, len(result))\n"
          ]
        },
        {
          "data": {
            "text/plain": [
              "0.4"
            ]
          },
          "execution_count": 31,
          "metadata": {},
          "output_type": "execute_result"
        }
      ],
      "source": [
        "recall_score(trues, preds, average='macro')"
      ]
    },
    {
      "cell_type": "markdown",
      "metadata": {
        "id": "G1iilwynIZJo"
      },
      "source": [
        "###Classification Report"
      ]
    },
    {
      "cell_type": "code",
      "execution_count": null,
      "metadata": {
        "id": "GorBAGUOkHJq"
      },
      "outputs": [],
      "source": [
        "from sklearn.metrics import confusion_matrix\n",
        "import seaborn as sns"
      ]
    },
    {
      "cell_type": "code",
      "execution_count": null,
      "metadata": {
        "colab": {
          "base_uri": "https://localhost:8080/"
        },
        "id": "inE0gZUtkIIu",
        "outputId": "41f4be5b-1a8a-4f6a-e51e-3c33be459ff9"
      },
      "outputs": [
        {
          "data": {
            "text/plain": [
              "array([[0, 1, 0, 0, 0],\n",
              "       [0, 0, 0, 0, 0],\n",
              "       [0, 0, 1, 0, 0],\n",
              "       [0, 0, 0, 1, 0],\n",
              "       [0, 0, 1, 0, 0]])"
            ]
          },
          "execution_count": 33,
          "metadata": {},
          "output_type": "execute_result"
        }
      ],
      "source": [
        "confusion_matrix(trues, preds)"
      ]
    },
    {
      "cell_type": "code",
      "execution_count": null,
      "metadata": {
        "id": "i2GP4XLRkUfa"
      },
      "outputs": [],
      "source": []
    }
  ],
  "metadata": {
    "accelerator": "GPU",
    "colab": {
      "collapsed_sections": [
        "C7kayrUcpEMr",
        "cQQHLLWMG0s1",
        "NyMJEgcTG5I9",
        "cYXes3HQG-ya",
        "dhPHeqUwdqUv",
        "ORAEQNVWHRdP",
        "PRyna-bNIQ6h",
        "rkHW4ZsdoqHN",
        "G1iilwynIZJo"
      ],
      "provenance": []
    },
    "gpuClass": "standard",
    "kernelspec": {
      "display_name": "Python 3",
      "name": "python3"
    },
    "language_info": {
      "name": "python"
    }
  },
  "nbformat": 4,
  "nbformat_minor": 0
}